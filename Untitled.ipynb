{
 "cells": [
  {
   "cell_type": "code",
   "execution_count": 1,
   "metadata": {},
   "outputs": [
    {
     "name": "stdout",
     "output_type": "stream",
     "text": [
      "Requirement already satisfied: pandas_datareader in e:\\machine_learning\\lib\\site-packages (0.9.0)\n",
      "Requirement already satisfied: lxml in e:\\machine_learning\\lib\\site-packages (from pandas_datareader) (4.5.0)\n",
      "Requirement already satisfied: requests>=2.19.0 in e:\\machine_learning\\lib\\site-packages (from pandas_datareader) (2.22.0)\n",
      "Requirement already satisfied: pandas>=0.23 in e:\\machine_learning\\lib\\site-packages (from pandas_datareader) (1.0.1)\n",
      "Requirement already satisfied: urllib3!=1.25.0,!=1.25.1,<1.26,>=1.21.1 in e:\\machine_learning\\lib\\site-packages (from requests>=2.19.0->pandas_datareader) (1.25.8)\n",
      "Requirement already satisfied: chardet<3.1.0,>=3.0.2 in e:\\machine_learning\\lib\\site-packages (from requests>=2.19.0->pandas_datareader) (3.0.4)\n",
      "Requirement already satisfied: certifi>=2017.4.17 in e:\\machine_learning\\lib\\site-packages (from requests>=2.19.0->pandas_datareader) (2019.11.28)\n",
      "Requirement already satisfied: idna<2.9,>=2.5 in e:\\machine_learning\\lib\\site-packages (from requests>=2.19.0->pandas_datareader) (2.8)\n",
      "Requirement already satisfied: python-dateutil>=2.6.1 in e:\\machine_learning\\lib\\site-packages (from pandas>=0.23->pandas_datareader) (2.8.1)\n",
      "Requirement already satisfied: pytz>=2017.2 in e:\\machine_learning\\lib\\site-packages (from pandas>=0.23->pandas_datareader) (2019.3)\n",
      "Requirement already satisfied: numpy>=1.13.3 in e:\\machine_learning\\lib\\site-packages (from pandas>=0.23->pandas_datareader) (1.18.1)\n",
      "Requirement already satisfied: six>=1.5 in e:\\machine_learning\\lib\\site-packages (from python-dateutil>=2.6.1->pandas>=0.23->pandas_datareader) (1.14.0)\n"
     ]
    }
   ],
   "source": [
    "!pip install pandas_datareader"
   ]
  },
  {
   "cell_type": "code",
   "execution_count": 2,
   "metadata": {},
   "outputs": [],
   "source": [
    "import pandas as pd\n",
    "import numpy as np\n",
    "import matplotlib.pyplot as plt\n",
    "import pandas_datareader as pdr"
   ]
  },
  {
   "cell_type": "code",
   "execution_count": null,
   "metadata": {},
   "outputs": [],
   "source": [
    "# loadaing dataset\n",
    "df = pdr.get_data_tiingo('GOOG', api_key='c6b245bce4988bcab5553fb3a09c6840dd57510f')\n",
    " df.head()"
   ]
  }
 ],
 "metadata": {
  "kernelspec": {
   "display_name": "Python 3",
   "language": "python",
   "name": "python3"
  },
  "language_info": {
   "codemirror_mode": {
    "name": "ipython",
    "version": 3
   },
   "file_extension": ".py",
   "mimetype": "text/x-python",
   "name": "python",
   "nbconvert_exporter": "python",
   "pygments_lexer": "ipython3",
   "version": "3.7.6"
  }
 },
 "nbformat": 4,
 "nbformat_minor": 2
}
