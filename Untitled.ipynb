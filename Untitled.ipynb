{
 "cells": [
  {
   "cell_type": "code",
   "execution_count": 1,
   "metadata": {},
   "outputs": [
    {
     "name": "stdout",
     "output_type": "stream",
     "text": [
      "Requirement already satisfied: pandas_datareader in c:\\users\\lenovo\\downloads\\new folder (2)\\lib\\site-packages (0.9.0)\n",
      "Requirement already satisfied: lxml in c:\\users\\lenovo\\downloads\\new folder (2)\\lib\\site-packages (from pandas_datareader) (4.5.0)\n",
      "Requirement already satisfied: requests>=2.19.0 in c:\\users\\lenovo\\downloads\\new folder (2)\\lib\\site-packages (from pandas_datareader) (2.22.0)\n",
      "Requirement already satisfied: pandas>=0.23 in c:\\users\\lenovo\\downloads\\new folder (2)\\lib\\site-packages (from pandas_datareader) (1.0.1)\n",
      "Requirement already satisfied: chardet<3.1.0,>=3.0.2 in c:\\users\\lenovo\\downloads\\new folder (2)\\lib\\site-packages (from requests>=2.19.0->pandas_datareader) (3.0.4)\n",
      "Requirement already satisfied: certifi>=2017.4.17 in c:\\users\\lenovo\\downloads\\new folder (2)\\lib\\site-packages (from requests>=2.19.0->pandas_datareader) (2019.11.28)\n",
      "Requirement already satisfied: urllib3!=1.25.0,!=1.25.1,<1.26,>=1.21.1 in c:\\users\\lenovo\\downloads\\new folder (2)\\lib\\site-packages (from requests>=2.19.0->pandas_datareader) (1.25.8)\n",
      "Requirement already satisfied: idna<2.9,>=2.5 in c:\\users\\lenovo\\downloads\\new folder (2)\\lib\\site-packages (from requests>=2.19.0->pandas_datareader) (2.8)\n",
      "Requirement already satisfied: pytz>=2017.2 in c:\\users\\lenovo\\downloads\\new folder (2)\\lib\\site-packages (from pandas>=0.23->pandas_datareader) (2019.3)\n",
      "Requirement already satisfied: python-dateutil>=2.6.1 in c:\\users\\lenovo\\downloads\\new folder (2)\\lib\\site-packages (from pandas>=0.23->pandas_datareader) (2.8.1)\n",
      "Requirement already satisfied: numpy>=1.13.3 in c:\\users\\lenovo\\downloads\\new folder (2)\\lib\\site-packages (from pandas>=0.23->pandas_datareader) (1.18.1)\n",
      "Requirement already satisfied: six>=1.5 in c:\\users\\lenovo\\downloads\\new folder (2)\\lib\\site-packages (from python-dateutil>=2.6.1->pandas>=0.23->pandas_datareader) (1.14.0)\n"
     ]
    }
   ],
   "source": [
    "!pip install pandas_datareader"
   ]
  },
  {
   "cell_type": "code",
   "execution_count": 2,
   "metadata": {},
   "outputs": [],
   "source": [
    "import pandas as pd\n",
    "import numpy as np\n",
    "import matplotlib.pyplot as plt\n",
    "import pandas_datareader as pdr"
   ]
  },
  {
   "cell_type": "code",
   "execution_count": 3,
   "metadata": {},
   "outputs": [
    {
     "data": {
      "text/html": [
       "<div>\n",
       "<style scoped>\n",
       "    .dataframe tbody tr th:only-of-type {\n",
       "        vertical-align: middle;\n",
       "    }\n",
       "\n",
       "    .dataframe tbody tr th {\n",
       "        vertical-align: top;\n",
       "    }\n",
       "\n",
       "    .dataframe thead th {\n",
       "        text-align: right;\n",
       "    }\n",
       "</style>\n",
       "<table border=\"1\" class=\"dataframe\">\n",
       "  <thead>\n",
       "    <tr style=\"text-align: right;\">\n",
       "      <th></th>\n",
       "      <th></th>\n",
       "      <th>close</th>\n",
       "      <th>high</th>\n",
       "      <th>low</th>\n",
       "      <th>open</th>\n",
       "      <th>volume</th>\n",
       "      <th>adjClose</th>\n",
       "      <th>adjHigh</th>\n",
       "      <th>adjLow</th>\n",
       "      <th>adjOpen</th>\n",
       "      <th>adjVolume</th>\n",
       "      <th>divCash</th>\n",
       "      <th>splitFactor</th>\n",
       "    </tr>\n",
       "    <tr>\n",
       "      <th>symbol</th>\n",
       "      <th>date</th>\n",
       "      <th></th>\n",
       "      <th></th>\n",
       "      <th></th>\n",
       "      <th></th>\n",
       "      <th></th>\n",
       "      <th></th>\n",
       "      <th></th>\n",
       "      <th></th>\n",
       "      <th></th>\n",
       "      <th></th>\n",
       "      <th></th>\n",
       "      <th></th>\n",
       "    </tr>\n",
       "  </thead>\n",
       "  <tbody>\n",
       "    <tr>\n",
       "      <th rowspan=\"5\" valign=\"top\">GOOG</th>\n",
       "      <th>2015-07-27 00:00:00+00:00</th>\n",
       "      <td>627.26</td>\n",
       "      <td>634.30</td>\n",
       "      <td>620.50</td>\n",
       "      <td>621.00</td>\n",
       "      <td>2675381</td>\n",
       "      <td>627.26</td>\n",
       "      <td>634.30</td>\n",
       "      <td>620.50</td>\n",
       "      <td>621.00</td>\n",
       "      <td>2675381</td>\n",
       "      <td>0.0</td>\n",
       "      <td>1.0</td>\n",
       "    </tr>\n",
       "    <tr>\n",
       "      <th>2015-07-28 00:00:00+00:00</th>\n",
       "      <td>628.00</td>\n",
       "      <td>632.83</td>\n",
       "      <td>623.31</td>\n",
       "      <td>632.83</td>\n",
       "      <td>1727327</td>\n",
       "      <td>628.00</td>\n",
       "      <td>632.83</td>\n",
       "      <td>623.31</td>\n",
       "      <td>632.83</td>\n",
       "      <td>1727327</td>\n",
       "      <td>0.0</td>\n",
       "      <td>1.0</td>\n",
       "    </tr>\n",
       "    <tr>\n",
       "      <th>2015-07-29 00:00:00+00:00</th>\n",
       "      <td>631.93</td>\n",
       "      <td>633.36</td>\n",
       "      <td>622.65</td>\n",
       "      <td>628.80</td>\n",
       "      <td>1575069</td>\n",
       "      <td>631.93</td>\n",
       "      <td>633.36</td>\n",
       "      <td>622.65</td>\n",
       "      <td>628.80</td>\n",
       "      <td>1575069</td>\n",
       "      <td>0.0</td>\n",
       "      <td>1.0</td>\n",
       "    </tr>\n",
       "    <tr>\n",
       "      <th>2015-07-30 00:00:00+00:00</th>\n",
       "      <td>632.59</td>\n",
       "      <td>635.22</td>\n",
       "      <td>622.05</td>\n",
       "      <td>630.00</td>\n",
       "      <td>1474203</td>\n",
       "      <td>632.59</td>\n",
       "      <td>635.22</td>\n",
       "      <td>622.05</td>\n",
       "      <td>630.00</td>\n",
       "      <td>1474203</td>\n",
       "      <td>0.0</td>\n",
       "      <td>1.0</td>\n",
       "    </tr>\n",
       "    <tr>\n",
       "      <th>2015-07-31 00:00:00+00:00</th>\n",
       "      <td>625.61</td>\n",
       "      <td>632.91</td>\n",
       "      <td>625.50</td>\n",
       "      <td>631.38</td>\n",
       "      <td>1706149</td>\n",
       "      <td>625.61</td>\n",
       "      <td>632.91</td>\n",
       "      <td>625.50</td>\n",
       "      <td>631.38</td>\n",
       "      <td>1706149</td>\n",
       "      <td>0.0</td>\n",
       "      <td>1.0</td>\n",
       "    </tr>\n",
       "  </tbody>\n",
       "</table>\n",
       "</div>"
      ],
      "text/plain": [
       "                                   close    high     low    open   volume  \\\n",
       "symbol date                                                                 \n",
       "GOOG   2015-07-27 00:00:00+00:00  627.26  634.30  620.50  621.00  2675381   \n",
       "       2015-07-28 00:00:00+00:00  628.00  632.83  623.31  632.83  1727327   \n",
       "       2015-07-29 00:00:00+00:00  631.93  633.36  622.65  628.80  1575069   \n",
       "       2015-07-30 00:00:00+00:00  632.59  635.22  622.05  630.00  1474203   \n",
       "       2015-07-31 00:00:00+00:00  625.61  632.91  625.50  631.38  1706149   \n",
       "\n",
       "                                  adjClose  adjHigh  adjLow  adjOpen  \\\n",
       "symbol date                                                            \n",
       "GOOG   2015-07-27 00:00:00+00:00    627.26   634.30  620.50   621.00   \n",
       "       2015-07-28 00:00:00+00:00    628.00   632.83  623.31   632.83   \n",
       "       2015-07-29 00:00:00+00:00    631.93   633.36  622.65   628.80   \n",
       "       2015-07-30 00:00:00+00:00    632.59   635.22  622.05   630.00   \n",
       "       2015-07-31 00:00:00+00:00    625.61   632.91  625.50   631.38   \n",
       "\n",
       "                                  adjVolume  divCash  splitFactor  \n",
       "symbol date                                                        \n",
       "GOOG   2015-07-27 00:00:00+00:00    2675381      0.0          1.0  \n",
       "       2015-07-28 00:00:00+00:00    1727327      0.0          1.0  \n",
       "       2015-07-29 00:00:00+00:00    1575069      0.0          1.0  \n",
       "       2015-07-30 00:00:00+00:00    1474203      0.0          1.0  \n",
       "       2015-07-31 00:00:00+00:00    1706149      0.0          1.0  "
      ]
     },
     "execution_count": 3,
     "metadata": {},
     "output_type": "execute_result"
    }
   ],
   "source": [
    "# loadaing dataset\n",
    "df = pdr.get_data_tiingo('GOOG', api_key='c6b245bce4988bcab5553fb3a09c6840dd57510f')\n",
    "df.head()"
   ]
  },
  {
   "cell_type": "code",
   "execution_count": 4,
   "metadata": {},
   "outputs": [],
   "source": [
    "#loading dataset"
   ]
  },
  {
   "cell_type": "code",
   "execution_count": 5,
   "metadata": {},
   "outputs": [
    {
     "data": {
      "text/plain": [
       "(1258, 12)"
      ]
     },
     "execution_count": 5,
     "metadata": {},
     "output_type": "execute_result"
    }
   ],
   "source": [
    "df.shape"
   ]
  },
  {
   "cell_type": "code",
   "execution_count": null,
   "metadata": {},
   "outputs": [],
   "source": []
  }
 ],
 "metadata": {
  "kernelspec": {
   "display_name": "Python 3",
   "language": "python",
   "name": "python3"
  },
  "language_info": {
   "codemirror_mode": {
    "name": "ipython",
    "version": 3
   },
   "file_extension": ".py",
   "mimetype": "text/x-python",
   "name": "python",
   "nbconvert_exporter": "python",
   "pygments_lexer": "ipython3",
   "version": "3.7.6"
  }
 },
 "nbformat": 4,
 "nbformat_minor": 2
}
