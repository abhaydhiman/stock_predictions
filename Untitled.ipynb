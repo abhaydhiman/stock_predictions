{
 "cells": [
  {
   "cell_type": "code",
   "execution_count": 2,
   "metadata": {},
   "outputs": [
    {
     "name": "stdout",
     "output_type": "stream",
     "text": [
      "Collecting pandas_datareader\n",
      "  Downloading pandas_datareader-0.9.0-py3-none-any.whl (107 kB)\n",
      "Requirement already satisfied: pandas>=0.23 in c:\\python38\\lib\\site-packages (from pandas_datareader) (1.0.4)\n",
      "Requirement already satisfied: requests>=2.19.0 in c:\\python38\\lib\\site-packages (from pandas_datareader) (2.24.0)\n",
      "Collecting lxml\n",
      "  Downloading lxml-4.5.2-cp38-cp38-win_amd64.whl (3.5 MB)\n",
      "Requirement already satisfied: numpy>=1.13.3 in c:\\python38\\lib\\site-packages (from pandas>=0.23->pandas_datareader) (1.18.5)\n",
      "Requirement already satisfied: pytz>=2017.2 in c:\\python38\\lib\\site-packages (from pandas>=0.23->pandas_datareader) (2020.1)\n",
      "Requirement already satisfied: python-dateutil>=2.6.1 in c:\\python38\\lib\\site-packages (from pandas>=0.23->pandas_datareader) (2.8.1)\n",
      "Requirement already satisfied: urllib3!=1.25.0,!=1.25.1,<1.26,>=1.21.1 in c:\\python38\\lib\\site-packages (from requests>=2.19.0->pandas_datareader) (1.25.9)\n",
      "Requirement already satisfied: chardet<4,>=3.0.2 in c:\\python38\\lib\\site-packages (from requests>=2.19.0->pandas_datareader) (3.0.4)\n",
      "Requirement already satisfied: idna<3,>=2.5 in c:\\python38\\lib\\site-packages (from requests>=2.19.0->pandas_datareader) (2.10)\n",
      "Requirement already satisfied: certifi>=2017.4.17 in c:\\python38\\lib\\site-packages (from requests>=2.19.0->pandas_datareader) (2020.6.20)\n",
      "Requirement already satisfied: six>=1.5 in c:\\users\\lenovo\\appdata\\roaming\\python\\python38\\site-packages (from python-dateutil>=2.6.1->pandas>=0.23->pandas_datareader) (1.15.0)\n",
      "Installing collected packages: lxml, pandas-datareader\n",
      "Successfully installed lxml-4.5.2 pandas-datareader-0.9.0\n"
     ]
    }
   ],
   "source": [
    "!pip install pandas_datareader"
   ]
  },
  {
   "cell_type": "code",
   "execution_count": 5,
   "metadata": {},
   "outputs": [],
   "source": [
    "import pandas as pd\n",
    "import numpy as np\n",
    "import matplotlib.pyplot as plt\n",
    "import pandas_datareader as pdr"
   ]
  },
  {
   "cell_type": "code",
   "execution_count": null,
   "metadata": {},
   "outputs": [],
   "source": [
    "#loading dataset"
   ]
  }
 ],
 "metadata": {
  "kernelspec": {
   "display_name": "Python 3",
   "language": "python",
   "name": "python3"
  },
  "language_info": {
   "codemirror_mode": {
    "name": "ipython",
    "version": 3
   },
   "file_extension": ".py",
   "mimetype": "text/x-python",
   "name": "python",
   "nbconvert_exporter": "python",
   "pygments_lexer": "ipython3",
   "version": "3.7.3"
  }
 },
 "nbformat": 4,
 "nbformat_minor": 2
}
