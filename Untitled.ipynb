{
 "cells": [
  {
   "cell_type": "code",
   "execution_count": 1,
   "metadata": {},
   "outputs": [
    {
     "name": "stdout",
     "output_type": "stream",
     "text": [
      "Requirement already satisfied: pandas_datareader in c:\\users\\lenovo\\downloads\\new folder (2)\\lib\\site-packages (0.9.0)\n",
      "Requirement already satisfied: lxml in c:\\users\\lenovo\\downloads\\new folder (2)\\lib\\site-packages (from pandas_datareader) (4.5.0)\n",
      "Requirement already satisfied: requests>=2.19.0 in c:\\users\\lenovo\\downloads\\new folder (2)\\lib\\site-packages (from pandas_datareader) (2.22.0)\n",
      "Requirement already satisfied: pandas>=0.23 in c:\\users\\lenovo\\downloads\\new folder (2)\\lib\\site-packages (from pandas_datareader) (1.0.1)\n",
      "Requirement already satisfied: chardet<3.1.0,>=3.0.2 in c:\\users\\lenovo\\downloads\\new folder (2)\\lib\\site-packages (from requests>=2.19.0->pandas_datareader) (3.0.4)\n",
      "Requirement already satisfied: certifi>=2017.4.17 in c:\\users\\lenovo\\downloads\\new folder (2)\\lib\\site-packages (from requests>=2.19.0->pandas_datareader) (2019.11.28)\n",
      "Requirement already satisfied: urllib3!=1.25.0,!=1.25.1,<1.26,>=1.21.1 in c:\\users\\lenovo\\downloads\\new folder (2)\\lib\\site-packages (from requests>=2.19.0->pandas_datareader) (1.25.8)\n",
      "Requirement already satisfied: idna<2.9,>=2.5 in c:\\users\\lenovo\\downloads\\new folder (2)\\lib\\site-packages (from requests>=2.19.0->pandas_datareader) (2.8)\n",
      "Requirement already satisfied: pytz>=2017.2 in c:\\users\\lenovo\\downloads\\new folder (2)\\lib\\site-packages (from pandas>=0.23->pandas_datareader) (2019.3)\n",
      "Requirement already satisfied: python-dateutil>=2.6.1 in c:\\users\\lenovo\\downloads\\new folder (2)\\lib\\site-packages (from pandas>=0.23->pandas_datareader) (2.8.1)\n",
      "Requirement already satisfied: numpy>=1.13.3 in c:\\users\\lenovo\\downloads\\new folder (2)\\lib\\site-packages (from pandas>=0.23->pandas_datareader) (1.18.1)\n",
      "Requirement already satisfied: six>=1.5 in c:\\users\\lenovo\\downloads\\new folder (2)\\lib\\site-packages (from python-dateutil>=2.6.1->pandas>=0.23->pandas_datareader) (1.14.0)\n"
     ]
    }
   ],
   "source": [
    "!pip install pandas_datareader"
   ]
  },
  {
   "cell_type": "code",
   "execution_count": 3,
   "metadata": {},
   "outputs": [],
   "source": [
    "import pandas as pd\n",
    "import numpy as np\n",
    "import matplotlib.pyplot as plt\n",
    "import pandas_datareader as pdr"
   ]
  },
  {
   "cell_type": "code",
   "execution_count": 3,
   "metadata": {},
   "outputs": [
    {
     "data": {
      "text/html": [
       "<div>\n",
       "<style scoped>\n",
       "    .dataframe tbody tr th:only-of-type {\n",
       "        vertical-align: middle;\n",
       "    }\n",
       "\n",
       "    .dataframe tbody tr th {\n",
       "        vertical-align: top;\n",
       "    }\n",
       "\n",
       "    .dataframe thead th {\n",
       "        text-align: right;\n",
       "    }\n",
       "</style>\n",
       "<table border=\"1\" class=\"dataframe\">\n",
       "  <thead>\n",
       "    <tr style=\"text-align: right;\">\n",
       "      <th></th>\n",
       "      <th></th>\n",
       "      <th>adjClose</th>\n",
       "      <th>adjHigh</th>\n",
       "      <th>adjLow</th>\n",
       "      <th>adjOpen</th>\n",
       "      <th>adjVolume</th>\n",
       "      <th>close</th>\n",
       "      <th>divCash</th>\n",
       "      <th>high</th>\n",
       "      <th>low</th>\n",
       "      <th>open</th>\n",
       "      <th>splitFactor</th>\n",
       "      <th>volume</th>\n",
       "    </tr>\n",
       "    <tr>\n",
       "      <th>symbol</th>\n",
       "      <th>date</th>\n",
       "      <th></th>\n",
       "      <th></th>\n",
       "      <th></th>\n",
       "      <th></th>\n",
       "      <th></th>\n",
       "      <th></th>\n",
       "      <th></th>\n",
       "      <th></th>\n",
       "      <th></th>\n",
       "      <th></th>\n",
       "      <th></th>\n",
       "      <th></th>\n",
       "    </tr>\n",
       "  </thead>\n",
       "  <tbody>\n",
       "    <tr>\n",
       "      <th rowspan=\"5\" valign=\"top\">GOOG</th>\n",
       "      <th>2015-07-27 00:00:00+00:00</th>\n",
       "      <td>627.26</td>\n",
       "      <td>634.30</td>\n",
       "      <td>620.50</td>\n",
       "      <td>621.00</td>\n",
       "      <td>2675381</td>\n",
       "      <td>627.26</td>\n",
       "      <td>0.0</td>\n",
       "      <td>634.30</td>\n",
       "      <td>620.50</td>\n",
       "      <td>621.00</td>\n",
       "      <td>1.0</td>\n",
       "      <td>2675381</td>\n",
       "    </tr>\n",
       "    <tr>\n",
       "      <th>2015-07-28 00:00:00+00:00</th>\n",
       "      <td>628.00</td>\n",
       "      <td>632.83</td>\n",
       "      <td>623.31</td>\n",
       "      <td>632.83</td>\n",
       "      <td>1727327</td>\n",
       "      <td>628.00</td>\n",
       "      <td>0.0</td>\n",
       "      <td>632.83</td>\n",
       "      <td>623.31</td>\n",
       "      <td>632.83</td>\n",
       "      <td>1.0</td>\n",
       "      <td>1727327</td>\n",
       "    </tr>\n",
       "    <tr>\n",
       "      <th>2015-07-29 00:00:00+00:00</th>\n",
       "      <td>631.93</td>\n",
       "      <td>633.36</td>\n",
       "      <td>622.65</td>\n",
       "      <td>628.80</td>\n",
       "      <td>1575069</td>\n",
       "      <td>631.93</td>\n",
       "      <td>0.0</td>\n",
       "      <td>633.36</td>\n",
       "      <td>622.65</td>\n",
       "      <td>628.80</td>\n",
       "      <td>1.0</td>\n",
       "      <td>1575069</td>\n",
       "    </tr>\n",
       "    <tr>\n",
       "      <th>2015-07-30 00:00:00+00:00</th>\n",
       "      <td>632.59</td>\n",
       "      <td>635.22</td>\n",
       "      <td>622.05</td>\n",
       "      <td>630.00</td>\n",
       "      <td>1474203</td>\n",
       "      <td>632.59</td>\n",
       "      <td>0.0</td>\n",
       "      <td>635.22</td>\n",
       "      <td>622.05</td>\n",
       "      <td>630.00</td>\n",
       "      <td>1.0</td>\n",
       "      <td>1474203</td>\n",
       "    </tr>\n",
       "    <tr>\n",
       "      <th>2015-07-31 00:00:00+00:00</th>\n",
       "      <td>625.61</td>\n",
       "      <td>632.91</td>\n",
       "      <td>625.50</td>\n",
       "      <td>631.38</td>\n",
       "      <td>1706149</td>\n",
       "      <td>625.61</td>\n",
       "      <td>0.0</td>\n",
       "      <td>632.91</td>\n",
       "      <td>625.50</td>\n",
       "      <td>631.38</td>\n",
       "      <td>1.0</td>\n",
       "      <td>1706149</td>\n",
       "    </tr>\n",
       "  </tbody>\n",
       "</table>\n",
       "</div>"
      ],
      "text/plain": [
       "                                  adjClose  adjHigh  adjLow  adjOpen  \\\n",
       "symbol date                                                            \n",
       "GOOG   2015-07-27 00:00:00+00:00    627.26   634.30  620.50   621.00   \n",
       "       2015-07-28 00:00:00+00:00    628.00   632.83  623.31   632.83   \n",
       "       2015-07-29 00:00:00+00:00    631.93   633.36  622.65   628.80   \n",
       "       2015-07-30 00:00:00+00:00    632.59   635.22  622.05   630.00   \n",
       "       2015-07-31 00:00:00+00:00    625.61   632.91  625.50   631.38   \n",
       "\n",
       "                                  adjVolume   close  divCash    high     low  \\\n",
       "symbol date                                                                    \n",
       "GOOG   2015-07-27 00:00:00+00:00    2675381  627.26      0.0  634.30  620.50   \n",
       "       2015-07-28 00:00:00+00:00    1727327  628.00      0.0  632.83  623.31   \n",
       "       2015-07-29 00:00:00+00:00    1575069  631.93      0.0  633.36  622.65   \n",
       "       2015-07-30 00:00:00+00:00    1474203  632.59      0.0  635.22  622.05   \n",
       "       2015-07-31 00:00:00+00:00    1706149  625.61      0.0  632.91  625.50   \n",
       "\n",
       "                                    open  splitFactor   volume  \n",
       "symbol date                                                     \n",
       "GOOG   2015-07-27 00:00:00+00:00  621.00          1.0  2675381  \n",
       "       2015-07-28 00:00:00+00:00  632.83          1.0  1727327  \n",
       "       2015-07-29 00:00:00+00:00  628.80          1.0  1575069  \n",
       "       2015-07-30 00:00:00+00:00  630.00          1.0  1474203  \n",
       "       2015-07-31 00:00:00+00:00  631.38          1.0  1706149  "
      ]
     },
     "execution_count": 3,
     "metadata": {},
     "output_type": "execute_result"
    }
   ],
   "source": [
    "# loadaing dataset\n",
    "df = pdr.get_data_tiingo('GOOG', api_key='c6b245bce4988bcab5553fb3a09c6840dd57510f')\n",
    "df.head()"
   ]
  },
  {
   "cell_type": "code",
<<<<<<< HEAD
   "execution_count": 5,
=======
   "execution_count": 4,
>>>>>>> faed24a012b3af5bd68bb95533faecca1eff6c98
   "metadata": {},
   "outputs": [
    {
     "data": {
      "text/plain": [
       "pandas.core.frame.DataFrame"
      ]
     },
     "execution_count": 5,
     "metadata": {},
     "output_type": "execute_result"
    }
   ],
   "source": [
    "type(df)"
   ]
  },
  {
   "cell_type": "code",
<<<<<<< HEAD
   "execution_count": 6,
=======
   "execution_count": 5,
>>>>>>> faed24a012b3af5bd68bb95533faecca1eff6c98
   "metadata": {},
   "outputs": [
    {
     "data": {
<<<<<<< HEAD
      "text/html": [
       "<div>\n",
       "<style scoped>\n",
       "    .dataframe tbody tr th:only-of-type {\n",
       "        vertical-align: middle;\n",
       "    }\n",
       "\n",
       "    .dataframe tbody tr th {\n",
       "        vertical-align: top;\n",
       "    }\n",
       "\n",
       "    .dataframe thead th {\n",
       "        text-align: right;\n",
       "    }\n",
       "</style>\n",
       "<table border=\"1\" class=\"dataframe\">\n",
       "  <thead>\n",
       "    <tr style=\"text-align: right;\">\n",
       "      <th></th>\n",
       "      <th></th>\n",
       "      <th>adjClose</th>\n",
       "      <th>adjHigh</th>\n",
       "      <th>adjLow</th>\n",
       "      <th>adjOpen</th>\n",
       "      <th>adjVolume</th>\n",
       "      <th>close</th>\n",
       "      <th>divCash</th>\n",
       "      <th>high</th>\n",
       "      <th>low</th>\n",
       "      <th>open</th>\n",
       "      <th>splitFactor</th>\n",
       "      <th>volume</th>\n",
       "    </tr>\n",
       "    <tr>\n",
       "      <th>symbol</th>\n",
       "      <th>date</th>\n",
       "      <th></th>\n",
       "      <th></th>\n",
       "      <th></th>\n",
       "      <th></th>\n",
       "      <th></th>\n",
       "      <th></th>\n",
       "      <th></th>\n",
       "      <th></th>\n",
       "      <th></th>\n",
       "      <th></th>\n",
       "      <th></th>\n",
       "      <th></th>\n",
       "    </tr>\n",
       "  </thead>\n",
       "  <tbody>\n",
       "    <tr>\n",
       "      <th rowspan=\"5\" valign=\"top\">GOOG</th>\n",
       "      <th>2020-07-17 00:00:00+00:00</th>\n",
       "      <td>1515.55</td>\n",
       "      <td>1523.44</td>\n",
       "      <td>1498.420</td>\n",
       "      <td>1521.62</td>\n",
       "      <td>1457000</td>\n",
       "      <td>1515.55</td>\n",
       "      <td>0.0</td>\n",
       "      <td>1523.44</td>\n",
       "      <td>1498.420</td>\n",
       "      <td>1521.62</td>\n",
       "      <td>1.0</td>\n",
       "      <td>1457000</td>\n",
       "    </tr>\n",
       "    <tr>\n",
       "      <th>2020-07-20 00:00:00+00:00</th>\n",
       "      <td>1565.72</td>\n",
       "      <td>1570.29</td>\n",
       "      <td>1503.600</td>\n",
       "      <td>1515.26</td>\n",
       "      <td>1547136</td>\n",
       "      <td>1565.72</td>\n",
       "      <td>0.0</td>\n",
       "      <td>1570.29</td>\n",
       "      <td>1503.600</td>\n",
       "      <td>1515.26</td>\n",
       "      <td>1.0</td>\n",
       "      <td>1547136</td>\n",
       "    </tr>\n",
       "    <tr>\n",
       "      <th>2020-07-21 00:00:00+00:00</th>\n",
       "      <td>1558.42</td>\n",
       "      <td>1586.99</td>\n",
       "      <td>1554.280</td>\n",
       "      <td>1586.99</td>\n",
       "      <td>1183101</td>\n",
       "      <td>1558.42</td>\n",
       "      <td>0.0</td>\n",
       "      <td>1586.99</td>\n",
       "      <td>1554.280</td>\n",
       "      <td>1586.99</td>\n",
       "      <td>1.0</td>\n",
       "      <td>1183101</td>\n",
       "    </tr>\n",
       "    <tr>\n",
       "      <th>2020-07-22 00:00:00+00:00</th>\n",
       "      <td>1568.49</td>\n",
       "      <td>1570.00</td>\n",
       "      <td>1546.100</td>\n",
       "      <td>1560.50</td>\n",
       "      <td>931985</td>\n",
       "      <td>1568.49</td>\n",
       "      <td>0.0</td>\n",
       "      <td>1570.00</td>\n",
       "      <td>1546.100</td>\n",
       "      <td>1560.50</td>\n",
       "      <td>1.0</td>\n",
       "      <td>931985</td>\n",
       "    </tr>\n",
       "    <tr>\n",
       "      <th>2020-07-23 00:00:00+00:00</th>\n",
       "      <td>1515.68</td>\n",
       "      <td>1571.87</td>\n",
       "      <td>1507.392</td>\n",
       "      <td>1566.97</td>\n",
       "      <td>1627634</td>\n",
       "      <td>1515.68</td>\n",
       "      <td>0.0</td>\n",
       "      <td>1571.87</td>\n",
       "      <td>1507.392</td>\n",
       "      <td>1566.97</td>\n",
       "      <td>1.0</td>\n",
       "      <td>1627634</td>\n",
       "    </tr>\n",
       "  </tbody>\n",
       "</table>\n",
       "</div>"
      ],
      "text/plain": [
       "                                  adjClose  adjHigh    adjLow  adjOpen  \\\n",
       "symbol date                                                              \n",
       "GOOG   2020-07-17 00:00:00+00:00   1515.55  1523.44  1498.420  1521.62   \n",
       "       2020-07-20 00:00:00+00:00   1565.72  1570.29  1503.600  1515.26   \n",
       "       2020-07-21 00:00:00+00:00   1558.42  1586.99  1554.280  1586.99   \n",
       "       2020-07-22 00:00:00+00:00   1568.49  1570.00  1546.100  1560.50   \n",
       "       2020-07-23 00:00:00+00:00   1515.68  1571.87  1507.392  1566.97   \n",
       "\n",
       "                                  adjVolume    close  divCash     high  \\\n",
       "symbol date                                                              \n",
       "GOOG   2020-07-17 00:00:00+00:00    1457000  1515.55      0.0  1523.44   \n",
       "       2020-07-20 00:00:00+00:00    1547136  1565.72      0.0  1570.29   \n",
       "       2020-07-21 00:00:00+00:00    1183101  1558.42      0.0  1586.99   \n",
       "       2020-07-22 00:00:00+00:00     931985  1568.49      0.0  1570.00   \n",
       "       2020-07-23 00:00:00+00:00    1627634  1515.68      0.0  1571.87   \n",
       "\n",
       "                                       low     open  splitFactor   volume  \n",
       "symbol date                                                                \n",
       "GOOG   2020-07-17 00:00:00+00:00  1498.420  1521.62          1.0  1457000  \n",
       "       2020-07-20 00:00:00+00:00  1503.600  1515.26          1.0  1547136  \n",
       "       2020-07-21 00:00:00+00:00  1554.280  1586.99          1.0  1183101  \n",
       "       2020-07-22 00:00:00+00:00  1546.100  1560.50          1.0   931985  \n",
       "       2020-07-23 00:00:00+00:00  1507.392  1566.97          1.0  1627634  "
      ]
     },
     "execution_count": 6,
=======
      "text/plain": [
       "(1258, 12)"
      ]
     },
     "execution_count": 5,
>>>>>>> faed24a012b3af5bd68bb95533faecca1eff6c98
     "metadata": {},
     "output_type": "execute_result"
    }
   ],
   "source": [
<<<<<<< HEAD
    "df.tail()"
   ]
  },
  {
   "cell_type": "code",
   "execution_count": 8,
   "metadata": {},
   "outputs": [
    {
     "data": {
      "image/png": "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\n",
      "text/plain": [
       "<Figure size 1152x576 with 1 Axes>"
      ]
     },
     "metadata": {},
     "output_type": "display_data"
    }
   ],
   "source": [
    "df1 = df.reset_index()['open']\n",
    "plt.style.use('fivethirtyeight')\n",
    "\n",
    "# Visualising Positive sentiments\n",
    "plt.figure(figsize=(16,8))\n",
    "plt.title('Stocks -- open price')\n",
    "plt.plot(df1)\n",
    "plt.xlabel('Date', fontsize=18)\n",
    "plt.ylabel('open cost', fontsize=18)\n",
    "plt.show()"
=======
    "df.shape"
>>>>>>> faed24a012b3af5bd68bb95533faecca1eff6c98
   ]
  },
  {
   "cell_type": "code",
   "execution_count": null,
   "metadata": {},
   "outputs": [],
   "source": []
  }
 ],
 "metadata": {
  "kernelspec": {
   "display_name": "Python 3",
   "language": "python",
   "name": "python3"
  },
  "language_info": {
   "codemirror_mode": {
    "name": "ipython",
    "version": 3
   },
   "file_extension": ".py",
   "mimetype": "text/x-python",
   "name": "python",
   "nbconvert_exporter": "python",
   "pygments_lexer": "ipython3",
   "version": "3.7.3"
  }
 },
 "nbformat": 4,
 "nbformat_minor": 2
}
